{
 "cells": [
  {
   "cell_type": "markdown",
   "metadata": {},
   "source": [
    "# Preparing Data Set IMDB"
   ]
  },
  {
   "cell_type": "markdown",
   "metadata": {},
   "source": [
    "Analysis of Movies released in the cinema between 2000 and 2019 using IMDB DATA\n"
   ]
  },
  {
   "cell_type": "markdown",
   "metadata": {},
   "source": [
    "Analyze the data available on the IMDb website for movies released in the cinema between 2000 and 2019."
   ]
  },
  {
   "cell_type": "code",
   "execution_count": 16,
   "metadata": {},
   "outputs": [],
   "source": [
    "import requests\n",
    "from bs4 import BeautifulSoup\n",
    "import pandas as pd\n"
   ]
  },
  {
   "cell_type": "code",
   "execution_count": 2,
   "metadata": {},
   "outputs": [],
   "source": [
    "url = \"https://www.imdb.com/search/title/?release_date=2019&sort=num_votes,desc&page=1\""
   ]
  },
  {
   "cell_type": "code",
   "execution_count": 3,
   "metadata": {},
   "outputs": [
    {
     "name": "stdout",
     "output_type": "stream",
     "text": [
      "<class 'bs4.element.ResultSet'>\n",
      "50\n"
     ]
    }
   ],
   "source": [
    "response = requests.get(url)\n",
    "soup = BeautifulSoup(response.text, 'lxml')\n",
    "movie_containers = soup.find_all('div', class_ = 'lister-item mode-advanced')\n",
    "print(type(movie_containers))\n",
    "print(len(movie_containers))"
   ]
  },
  {
   "cell_type": "code",
   "execution_count": 4,
   "metadata": {},
   "outputs": [],
   "source": [
    "names = []\n",
    "genres = []\n",
    "years = []\n",
    "imdb_ratings = []\n",
    "metascores = []\n",
    "votes = []\n",
    "grossmill = []\n",
    "runtimes = []\n",
    "\n",
    "\n",
    "start_time = time()\n",
    "pages = [str(i) for i in range(1,5)]\n",
    "years_url = [str(i) for i in range(2000,2020)]\n",
    "\n",
    "\n",
    "# For every year in the interval 2000-2017\n",
    "for year_url in years_url:\n",
    "\n",
    "    # For every page in the interval 1-4\n",
    "    for page in pages:\n",
    "\n",
    "        # Make a get request\n",
    "        response = requests.get('http://www.imdb.com/search/title?release_date=' + year_url +\n",
    "        '&sort=num_votes,desc&page=' + page)\n",
    "\n",
    "        \n",
    "\n",
    "        \n",
    "\n",
    "        # Parse the content of the request with BeautifulSoup\n",
    "        page_html = BeautifulSoup(response.text, 'lxml')\n",
    "\n",
    "        # Select all the 50 movie containers from a single page\n",
    "        mv_containers = page_html.find_all('div', class_ = 'lister-item mode-advanced')\n",
    "\n",
    "        # For every movie of these 50\n",
    "        for container in mv_containers:\n",
    "            # If the movie has a Metascore, then:\n",
    "            if container.find('div', class_ = 'ratings-metascore') is not None:\n",
    "\n",
    "                # Scrape the name\n",
    "                name = container.h3.a.text\n",
    "                names.append(name)\n",
    "                \n",
    "                # Scrape the genre\n",
    "                genre = container.p.find('span', class_ = 'genre').text.rstrip().replace(\"\\n\",\"\").split(\",\")\n",
    "                genres.append(genre)\n",
    "                \n",
    "                \n",
    "                # Scrape the runtime\n",
    "                runtime = container.p.find('span', class_ = 'runtime').text\n",
    "                runtimes.append(runtime)\n",
    "            \n",
    "                \n",
    "                # Scrape the year\n",
    "                year = container.h3.find('span', class_ = 'lister-item-year').text\n",
    "                years.append(year)\n",
    "                \n",
    "                # Scrape the IMDB rating\n",
    "                imdb = float(container.strong.text)\n",
    "                imdb_ratings.append(imdb)\n",
    "\n",
    "                # Scrape the Metascore\n",
    "                m_score = container.find('span', class_ = 'metascore').text\n",
    "                metascores.append(int(m_score))\n",
    "\n",
    "                # Scrape the number of votes\n",
    "                vote = container.find('span', attrs = {'name':'nv'})['data-value']\n",
    "                votes.append(int(vote))\n",
    "                \n",
    "                # Scrape the GrossMill\n",
    "                gross = gross = container.find('span', text='Gross:')\n",
    "                if gross:\n",
    "                    gross = int(gross.find_next('span')['data-value'].replace(',', ''))\n",
    "                    \n",
    "                grossmill.append(gross)\n",
    "                \n",
    "                \n",
    "                \n",
    "                "
   ]
  },
  {
   "cell_type": "code",
   "execution_count": 5,
   "metadata": {},
   "outputs": [
    {
     "name": "stdout",
     "output_type": "stream",
     "text": [
      "<class 'pandas.core.frame.DataFrame'>\n",
      "RangeIndex: 3616 entries, 0 to 3615\n",
      "Data columns (total 8 columns):\n",
      " #   Column     Non-Null Count  Dtype  \n",
      "---  ------     --------------  -----  \n",
      " 0   movie      3616 non-null   object \n",
      " 1   year       3616 non-null   object \n",
      " 2   imdb       3616 non-null   float64\n",
      " 3   metascore  3616 non-null   int64  \n",
      " 4   genre      3616 non-null   object \n",
      " 5   runtime    3616 non-null   object \n",
      " 6   gross      3536 non-null   float64\n",
      " 7   votes      3616 non-null   int64  \n",
      "dtypes: float64(2), int64(2), object(4)\n",
      "memory usage: 226.1+ KB\n",
      "None\n"
     ]
    },
    {
     "data": {
      "text/html": [
       "<div>\n",
       "<style scoped>\n",
       "    .dataframe tbody tr th:only-of-type {\n",
       "        vertical-align: middle;\n",
       "    }\n",
       "\n",
       "    .dataframe tbody tr th {\n",
       "        vertical-align: top;\n",
       "    }\n",
       "\n",
       "    .dataframe thead th {\n",
       "        text-align: right;\n",
       "    }\n",
       "</style>\n",
       "<table border=\"1\" class=\"dataframe\">\n",
       "  <thead>\n",
       "    <tr style=\"text-align: right;\">\n",
       "      <th></th>\n",
       "      <th>movie</th>\n",
       "      <th>year</th>\n",
       "      <th>imdb</th>\n",
       "      <th>metascore</th>\n",
       "      <th>genre</th>\n",
       "      <th>runtime</th>\n",
       "      <th>gross</th>\n",
       "      <th>votes</th>\n",
       "    </tr>\n",
       "  </thead>\n",
       "  <tbody>\n",
       "    <tr>\n",
       "      <th>0</th>\n",
       "      <td>Gladiator</td>\n",
       "      <td>(2000)</td>\n",
       "      <td>8.5</td>\n",
       "      <td>67</td>\n",
       "      <td>[Action,  Adventure,  Drama]</td>\n",
       "      <td>155 min</td>\n",
       "      <td>187705427.0</td>\n",
       "      <td>1265139</td>\n",
       "    </tr>\n",
       "    <tr>\n",
       "      <th>1</th>\n",
       "      <td>Memento</td>\n",
       "      <td>(2000)</td>\n",
       "      <td>8.4</td>\n",
       "      <td>80</td>\n",
       "      <td>[Mystery,  Thriller]</td>\n",
       "      <td>113 min</td>\n",
       "      <td>25544867.0</td>\n",
       "      <td>1065249</td>\n",
       "    </tr>\n",
       "    <tr>\n",
       "      <th>2</th>\n",
       "      <td>Snatch</td>\n",
       "      <td>(2000)</td>\n",
       "      <td>8.3</td>\n",
       "      <td>55</td>\n",
       "      <td>[Comedy,  Crime]</td>\n",
       "      <td>104 min</td>\n",
       "      <td>30328156.0</td>\n",
       "      <td>744029</td>\n",
       "    </tr>\n",
       "    <tr>\n",
       "      <th>3</th>\n",
       "      <td>Requiem for a Dream</td>\n",
       "      <td>(2000)</td>\n",
       "      <td>8.3</td>\n",
       "      <td>68</td>\n",
       "      <td>[Drama]</td>\n",
       "      <td>102 min</td>\n",
       "      <td>3635482.0</td>\n",
       "      <td>725875</td>\n",
       "    </tr>\n",
       "    <tr>\n",
       "      <th>4</th>\n",
       "      <td>X-Men</td>\n",
       "      <td>(2000)</td>\n",
       "      <td>7.4</td>\n",
       "      <td>64</td>\n",
       "      <td>[Action,  Adventure,  Sci-Fi]</td>\n",
       "      <td>104 min</td>\n",
       "      <td>157299717.0</td>\n",
       "      <td>550968</td>\n",
       "    </tr>\n",
       "    <tr>\n",
       "      <th>5</th>\n",
       "      <td>Cast Away</td>\n",
       "      <td>(2000)</td>\n",
       "      <td>7.8</td>\n",
       "      <td>73</td>\n",
       "      <td>[Adventure,  Drama,  Romance]</td>\n",
       "      <td>143 min</td>\n",
       "      <td>233632142.0</td>\n",
       "      <td>491129</td>\n",
       "    </tr>\n",
       "    <tr>\n",
       "      <th>6</th>\n",
       "      <td>American Psycho</td>\n",
       "      <td>(2000)</td>\n",
       "      <td>7.6</td>\n",
       "      <td>64</td>\n",
       "      <td>[Comedy,  Crime,  Drama]</td>\n",
       "      <td>101 min</td>\n",
       "      <td>15070285.0</td>\n",
       "      <td>453294</td>\n",
       "    </tr>\n",
       "    <tr>\n",
       "      <th>7</th>\n",
       "      <td>Unbreakable</td>\n",
       "      <td>(2000)</td>\n",
       "      <td>7.3</td>\n",
       "      <td>62</td>\n",
       "      <td>[Drama,  Mystery,  Sci-Fi]</td>\n",
       "      <td>106 min</td>\n",
       "      <td>95011339.0</td>\n",
       "      <td>370098</td>\n",
       "    </tr>\n",
       "    <tr>\n",
       "      <th>8</th>\n",
       "      <td>Mission: Impossible II</td>\n",
       "      <td>(2000)</td>\n",
       "      <td>6.1</td>\n",
       "      <td>59</td>\n",
       "      <td>[Action,  Adventure,  Thriller]</td>\n",
       "      <td>123 min</td>\n",
       "      <td>215409889.0</td>\n",
       "      <td>299974</td>\n",
       "    </tr>\n",
       "    <tr>\n",
       "      <th>9</th>\n",
       "      <td>Meet the Parents</td>\n",
       "      <td>(2000)</td>\n",
       "      <td>7.0</td>\n",
       "      <td>73</td>\n",
       "      <td>[Comedy,  Romance]</td>\n",
       "      <td>108 min</td>\n",
       "      <td>166244045.0</td>\n",
       "      <td>299610</td>\n",
       "    </tr>\n",
       "  </tbody>\n",
       "</table>\n",
       "</div>"
      ],
      "text/plain": [
       "                    movie    year  imdb  metascore  \\\n",
       "0               Gladiator  (2000)   8.5         67   \n",
       "1                 Memento  (2000)   8.4         80   \n",
       "2                  Snatch  (2000)   8.3         55   \n",
       "3     Requiem for a Dream  (2000)   8.3         68   \n",
       "4                   X-Men  (2000)   7.4         64   \n",
       "5               Cast Away  (2000)   7.8         73   \n",
       "6         American Psycho  (2000)   7.6         64   \n",
       "7             Unbreakable  (2000)   7.3         62   \n",
       "8  Mission: Impossible II  (2000)   6.1         59   \n",
       "9        Meet the Parents  (2000)   7.0         73   \n",
       "\n",
       "                             genre  runtime        gross    votes  \n",
       "0     [Action,  Adventure,  Drama]  155 min  187705427.0  1265139  \n",
       "1             [Mystery,  Thriller]  113 min   25544867.0  1065249  \n",
       "2                 [Comedy,  Crime]  104 min   30328156.0   744029  \n",
       "3                          [Drama]  102 min    3635482.0   725875  \n",
       "4    [Action,  Adventure,  Sci-Fi]  104 min  157299717.0   550968  \n",
       "5    [Adventure,  Drama,  Romance]  143 min  233632142.0   491129  \n",
       "6         [Comedy,  Crime,  Drama]  101 min   15070285.0   453294  \n",
       "7       [Drama,  Mystery,  Sci-Fi]  106 min   95011339.0   370098  \n",
       "8  [Action,  Adventure,  Thriller]  123 min  215409889.0   299974  \n",
       "9               [Comedy,  Romance]  108 min  166244045.0   299610  "
      ]
     },
     "execution_count": 5,
     "metadata": {},
     "output_type": "execute_result"
    }
   ],
   "source": [
    "movie_ratings = pd.DataFrame({'movie': names,\n",
    "                              'year': years,\n",
    "                              'imdb': imdb_ratings,\n",
    "                              'metascore': metascores,\n",
    "                              'genre' : genres,\n",
    "                              'runtime': runtimes,\n",
    "                              'gross' : grossmill,\n",
    "                              'votes': votes\n",
    "                              })\n",
    "print(movie_ratings.info())\n",
    "movie_ratings.head(10)"
   ]
  },
  {
   "cell_type": "code",
   "execution_count": 6,
   "metadata": {},
   "outputs": [
    {
     "data": {
      "text/html": [
       "<div>\n",
       "<style scoped>\n",
       "    .dataframe tbody tr th:only-of-type {\n",
       "        vertical-align: middle;\n",
       "    }\n",
       "\n",
       "    .dataframe tbody tr th {\n",
       "        vertical-align: top;\n",
       "    }\n",
       "\n",
       "    .dataframe thead th {\n",
       "        text-align: right;\n",
       "    }\n",
       "</style>\n",
       "<table border=\"1\" class=\"dataframe\">\n",
       "  <thead>\n",
       "    <tr style=\"text-align: right;\">\n",
       "      <th></th>\n",
       "      <th>movie</th>\n",
       "      <th>year</th>\n",
       "      <th>imdb</th>\n",
       "      <th>metascore</th>\n",
       "      <th>votes</th>\n",
       "      <th>genre</th>\n",
       "      <th>runtime</th>\n",
       "      <th>gross</th>\n",
       "    </tr>\n",
       "  </thead>\n",
       "  <tbody>\n",
       "    <tr>\n",
       "      <th>0</th>\n",
       "      <td>Gladiator</td>\n",
       "      <td>(2000)</td>\n",
       "      <td>8.5</td>\n",
       "      <td>67</td>\n",
       "      <td>1265139</td>\n",
       "      <td>[Action,  Adventure,  Drama]</td>\n",
       "      <td>155 min</td>\n",
       "      <td>187705427.0</td>\n",
       "    </tr>\n",
       "    <tr>\n",
       "      <th>1</th>\n",
       "      <td>Memento</td>\n",
       "      <td>(2000)</td>\n",
       "      <td>8.4</td>\n",
       "      <td>80</td>\n",
       "      <td>1065249</td>\n",
       "      <td>[Mystery,  Thriller]</td>\n",
       "      <td>113 min</td>\n",
       "      <td>25544867.0</td>\n",
       "    </tr>\n",
       "    <tr>\n",
       "      <th>2</th>\n",
       "      <td>Snatch</td>\n",
       "      <td>(2000)</td>\n",
       "      <td>8.3</td>\n",
       "      <td>55</td>\n",
       "      <td>744029</td>\n",
       "      <td>[Comedy,  Crime]</td>\n",
       "      <td>104 min</td>\n",
       "      <td>30328156.0</td>\n",
       "    </tr>\n",
       "    <tr>\n",
       "      <th>3</th>\n",
       "      <td>Requiem for a Dream</td>\n",
       "      <td>(2000)</td>\n",
       "      <td>8.3</td>\n",
       "      <td>68</td>\n",
       "      <td>725875</td>\n",
       "      <td>[Drama]</td>\n",
       "      <td>102 min</td>\n",
       "      <td>3635482.0</td>\n",
       "    </tr>\n",
       "    <tr>\n",
       "      <th>4</th>\n",
       "      <td>X-Men</td>\n",
       "      <td>(2000)</td>\n",
       "      <td>7.4</td>\n",
       "      <td>64</td>\n",
       "      <td>550968</td>\n",
       "      <td>[Action,  Adventure,  Sci-Fi]</td>\n",
       "      <td>104 min</td>\n",
       "      <td>157299717.0</td>\n",
       "    </tr>\n",
       "  </tbody>\n",
       "</table>\n",
       "</div>"
      ],
      "text/plain": [
       "                 movie    year  imdb  metascore    votes  \\\n",
       "0            Gladiator  (2000)   8.5         67  1265139   \n",
       "1              Memento  (2000)   8.4         80  1065249   \n",
       "2               Snatch  (2000)   8.3         55   744029   \n",
       "3  Requiem for a Dream  (2000)   8.3         68   725875   \n",
       "4                X-Men  (2000)   7.4         64   550968   \n",
       "\n",
       "                           genre  runtime        gross  \n",
       "0   [Action,  Adventure,  Drama]  155 min  187705427.0  \n",
       "1           [Mystery,  Thriller]  113 min   25544867.0  \n",
       "2               [Comedy,  Crime]  104 min   30328156.0  \n",
       "3                        [Drama]  102 min    3635482.0  \n",
       "4  [Action,  Adventure,  Sci-Fi]  104 min  157299717.0  "
      ]
     },
     "execution_count": 6,
     "metadata": {},
     "output_type": "execute_result"
    }
   ],
   "source": [
    "movie_ratings = movie_ratings[['movie', 'year', 'imdb', 'metascore', 'votes', 'genre', 'runtime', 'gross']]\n",
    "movie_ratings.head()"
   ]
  },
  {
   "cell_type": "code",
   "execution_count": 7,
   "metadata": {},
   "outputs": [
    {
     "data": {
      "text/plain": [
       "array(['(2000)', '(I) (2000)', '(2001)', '(2002)', '(2003)', '(2004)',\n",
       "       '(I) (2004)', '(2005)', '(I) (2005)', '(2006)', '(I) (2006)',\n",
       "       '(2007)', '(I) (2007)', '(2008)', '(I) (2008)', '(2009)',\n",
       "       '(I) (2009)', '(2010)', '(I) (2010)', '(2011)', '(I) (2011)',\n",
       "       '(2012)', '(I) (2012)', '(2013)', '(I) (2013)', '(2014)',\n",
       "       '(I) (2014)', '(II) (2014)', '(2015)', '(I) (2015)', '(II) (2015)',\n",
       "       '(2016)', '(II) (2016)', '(I) (2016)', '(IX) (2016)', '(2017)',\n",
       "       '(I) (2017)', '(2018)', '(I) (2018)', '(III) (2018)', '(2019)',\n",
       "       '(II) (2019)', '(I) (2019)'], dtype=object)"
      ]
     },
     "execution_count": 7,
     "metadata": {},
     "output_type": "execute_result"
    }
   ],
   "source": [
    "movie_ratings['year'].unique()"
   ]
  },
  {
   "cell_type": "code",
   "execution_count": 8,
   "metadata": {},
   "outputs": [],
   "source": [
    "movie_ratings.loc[:, 'year'] = movie_ratings['year'].str[-5:-1].astype(int)"
   ]
  },
  {
   "cell_type": "code",
   "execution_count": 9,
   "metadata": {},
   "outputs": [
    {
     "data": {
      "text/plain": [
       "0    2000\n",
       "1    2000\n",
       "2    2000\n",
       "Name: year, dtype: int32"
      ]
     },
     "execution_count": 9,
     "metadata": {},
     "output_type": "execute_result"
    }
   ],
   "source": [
    "movie_ratings['year'].head(3)"
   ]
  },
  {
   "cell_type": "code",
   "execution_count": 10,
   "metadata": {},
   "outputs": [
    {
     "data": {
      "text/plain": [
       "0    [Action,  Adventure,  Drama]\n",
       "1            [Mystery,  Thriller]\n",
       "2                [Comedy,  Crime]\n",
       "Name: genre, dtype: object"
      ]
     },
     "execution_count": 10,
     "metadata": {},
     "output_type": "execute_result"
    }
   ],
   "source": [
    "movie_ratings['genre'].head(3)"
   ]
  },
  {
   "cell_type": "code",
   "execution_count": 11,
   "metadata": {},
   "outputs": [
    {
     "data": {
      "text/html": [
       "<div>\n",
       "<style scoped>\n",
       "    .dataframe tbody tr th:only-of-type {\n",
       "        vertical-align: middle;\n",
       "    }\n",
       "\n",
       "    .dataframe tbody tr th {\n",
       "        vertical-align: top;\n",
       "    }\n",
       "\n",
       "    .dataframe thead th {\n",
       "        text-align: right;\n",
       "    }\n",
       "</style>\n",
       "<table border=\"1\" class=\"dataframe\">\n",
       "  <thead>\n",
       "    <tr style=\"text-align: right;\">\n",
       "      <th></th>\n",
       "      <th>imdb</th>\n",
       "      <th>metascore</th>\n",
       "    </tr>\n",
       "  </thead>\n",
       "  <tbody>\n",
       "    <tr>\n",
       "      <th>min</th>\n",
       "      <td>4.1</td>\n",
       "      <td>24.0</td>\n",
       "    </tr>\n",
       "    <tr>\n",
       "      <th>max</th>\n",
       "      <td>9.0</td>\n",
       "      <td>100.0</td>\n",
       "    </tr>\n",
       "  </tbody>\n",
       "</table>\n",
       "</div>"
      ],
      "text/plain": [
       "     imdb  metascore\n",
       "min   4.1       24.0\n",
       "max   9.0      100.0"
      ]
     },
     "execution_count": 11,
     "metadata": {},
     "output_type": "execute_result"
    }
   ],
   "source": [
    "movie_ratings.describe().loc[['min', 'max'], ['imdb', 'metascore']]"
   ]
  },
  {
   "cell_type": "code",
   "execution_count": 12,
   "metadata": {},
   "outputs": [
    {
     "data": {
      "text/html": [
       "<div>\n",
       "<style scoped>\n",
       "    .dataframe tbody tr th:only-of-type {\n",
       "        vertical-align: middle;\n",
       "    }\n",
       "\n",
       "    .dataframe tbody tr th {\n",
       "        vertical-align: top;\n",
       "    }\n",
       "\n",
       "    .dataframe thead th {\n",
       "        text-align: right;\n",
       "    }\n",
       "</style>\n",
       "<table border=\"1\" class=\"dataframe\">\n",
       "  <thead>\n",
       "    <tr style=\"text-align: right;\">\n",
       "      <th></th>\n",
       "      <th>movie</th>\n",
       "      <th>year</th>\n",
       "      <th>imdb</th>\n",
       "      <th>metascore</th>\n",
       "      <th>votes</th>\n",
       "      <th>genre</th>\n",
       "      <th>runtime</th>\n",
       "      <th>gross</th>\n",
       "      <th>n_imdb</th>\n",
       "    </tr>\n",
       "  </thead>\n",
       "  <tbody>\n",
       "    <tr>\n",
       "      <th>0</th>\n",
       "      <td>Gladiator</td>\n",
       "      <td>2000</td>\n",
       "      <td>8.5</td>\n",
       "      <td>67</td>\n",
       "      <td>1265139</td>\n",
       "      <td>[Action,  Adventure,  Drama]</td>\n",
       "      <td>155 min</td>\n",
       "      <td>187705427.0</td>\n",
       "      <td>85.0</td>\n",
       "    </tr>\n",
       "    <tr>\n",
       "      <th>1</th>\n",
       "      <td>Memento</td>\n",
       "      <td>2000</td>\n",
       "      <td>8.4</td>\n",
       "      <td>80</td>\n",
       "      <td>1065249</td>\n",
       "      <td>[Mystery,  Thriller]</td>\n",
       "      <td>113 min</td>\n",
       "      <td>25544867.0</td>\n",
       "      <td>84.0</td>\n",
       "    </tr>\n",
       "    <tr>\n",
       "      <th>2</th>\n",
       "      <td>Snatch</td>\n",
       "      <td>2000</td>\n",
       "      <td>8.3</td>\n",
       "      <td>55</td>\n",
       "      <td>744029</td>\n",
       "      <td>[Comedy,  Crime]</td>\n",
       "      <td>104 min</td>\n",
       "      <td>30328156.0</td>\n",
       "      <td>83.0</td>\n",
       "    </tr>\n",
       "  </tbody>\n",
       "</table>\n",
       "</div>"
      ],
      "text/plain": [
       "       movie  year  imdb  metascore    votes                         genre  \\\n",
       "0  Gladiator  2000   8.5         67  1265139  [Action,  Adventure,  Drama]   \n",
       "1    Memento  2000   8.4         80  1065249          [Mystery,  Thriller]   \n",
       "2     Snatch  2000   8.3         55   744029              [Comedy,  Crime]   \n",
       "\n",
       "   runtime        gross  n_imdb  \n",
       "0  155 min  187705427.0    85.0  \n",
       "1  113 min   25544867.0    84.0  \n",
       "2  104 min   30328156.0    83.0  "
      ]
     },
     "execution_count": 12,
     "metadata": {},
     "output_type": "execute_result"
    }
   ],
   "source": [
    "movie_ratings['n_imdb'] = movie_ratings['imdb'] * 10\n",
    "movie_ratings.head(3)"
   ]
  },
  {
   "cell_type": "code",
   "execution_count": 14,
   "metadata": {},
   "outputs": [],
   "source": [
    "movie_ratings.to_csv('df_movie_ratings.csv')"
   ]
  },
  {
   "cell_type": "code",
   "execution_count": 15,
   "metadata": {},
   "outputs": [
    {
     "name": "stdout",
     "output_type": "stream",
     "text": [
      "There are 3616 data set\n"
     ]
    }
   ],
   "source": [
    "print(\"There are 3616 data set\")"
   ]
  },
  {
   "cell_type": "code",
   "execution_count": null,
   "metadata": {},
   "outputs": [],
   "source": []
  },
  {
   "cell_type": "code",
   "execution_count": null,
   "metadata": {},
   "outputs": [],
   "source": []
  }
 ],
 "metadata": {
  "kernelspec": {
   "display_name": "Python 3",
   "language": "python",
   "name": "python3"
  },
  "language_info": {
   "codemirror_mode": {
    "name": "ipython",
    "version": 3
   },
   "file_extension": ".py",
   "mimetype": "text/x-python",
   "name": "python",
   "nbconvert_exporter": "python",
   "pygments_lexer": "ipython3",
   "version": "3.6.5"
  }
 },
 "nbformat": 4,
 "nbformat_minor": 2
}
